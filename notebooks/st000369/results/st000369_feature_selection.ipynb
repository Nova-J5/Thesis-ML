{
 "cells": [
  {
   "cell_type": "markdown",
   "metadata": {},
   "source": [
    "### Librerie"
   ]
  },
  {
   "cell_type": "code",
   "execution_count": 82,
   "metadata": {},
   "outputs": [],
   "source": [
    "# Librerie di base\n",
    "import numpy as np\n",
    "import pandas as pd\n",
    "import seaborn as sns\n",
    "import matplotlib.pyplot as plt\n",
    "from tabulate import tabulate "
   ]
  },
  {
   "cell_type": "markdown",
   "metadata": {},
   "source": [
    "### Tabella con i metaboliti e i relativi codici"
   ]
  },
  {
   "cell_type": "code",
   "execution_count": 83,
   "metadata": {},
   "outputs": [],
   "source": [
    "metabolites = pd.read_excel('../../../data/ST000369_Metabolites.xlsx', index_col=0)\n",
    "metabolites = pd.DataFrame(metabolites)"
   ]
  },
  {
   "cell_type": "code",
   "execution_count": 84,
   "metadata": {},
   "outputs": [],
   "source": [
    "def get_metabolites(mtblt, metabolites):\n",
    "    metaboliti_selezionati = metabolites[metabolites['Name'].isin(mtblt)]\n",
    "    names = metaboliti_selezionati['Label'].tolist()\n",
    "    return names"
   ]
  },
  {
   "cell_type": "markdown",
   "metadata": {},
   "source": [
    "### AdaBoost"
   ]
  },
  {
   "cell_type": "code",
   "execution_count": 85,
   "metadata": {},
   "outputs": [
    {
     "name": "stdout",
     "output_type": "stream",
     "text": [
      "50\n"
     ]
    }
   ],
   "source": [
    "codes_ab = ['M1', 'M4', 'M6', 'M7', 'M9', 'M13', 'M24', 'M25', 'M31', 'M33', 'M37', 'M39', 'M41', 'M42', 'M44', 'M45', 'M47', 'M50', 'M60', 'M62', 'M63', 'M67', 'M69', 'M74', 'M76', 'M78', 'M89', 'M91', 'M92', 'M97', 'M100', 'M103', 'M104', 'M106', 'M115', 'M117', 'M121', 'M129', 'M133', 'M139', 'M140', 'M149', 'M151', 'M161', 'M168', 'M170', 'M171', 'M173', 'M176', 'M179']\n",
    "print(len(codes_ab))"
   ]
  },
  {
   "cell_type": "code",
   "execution_count": 86,
   "metadata": {},
   "outputs": [
    {
     "name": "stdout",
     "output_type": "stream",
     "text": [
      "xylose\n",
      "valine\n",
      "uric acid\n",
      "urea\n",
      "tryptophan\n",
      "threonine\n",
      "serine\n",
      "salicylic acid\n",
      "pyrophosphate\n",
      "proline\n",
      "phenylalanine\n",
      "paracetamol\n",
      "palmitoleic acid\n",
      "palmitic acid\n",
      "oxoproline\n",
      "oxalic acid\n",
      "oleic acid\n",
      "naproxen\n",
      "mannitol\n",
      "maltose\n",
      "malonic acid\n",
      "lysine\n",
      "linoleic acid\n",
      "lauric acid\n",
      "lactic acid\n",
      "kynurenine\n",
      "hypoxanthine\n",
      "histidine\n",
      "hippuric acid\n",
      "glycine\n",
      "glycerol\n",
      "glutamine\n",
      "glutamic acid\n",
      "glucose\n",
      "fructose\n",
      "erythritol\n",
      "cystine\n",
      "cholesterol\n",
      "butane-2,3-diol (NIST)\n",
      "azelaic acid\n",
      "aspartic acid\n",
      "alanine\n",
      "adenosine-5-phosphate\n",
      "3-hydroxybutanoic acid\n",
      "2-hydroxyhippuric acid\n",
      "2-hydroxybutanoic acid\n",
      "deoxytetronic acid NIST\n",
      "deoxythreittol NIST\n",
      "1,5-anhydroglucitol\n",
      "715929 carbohydrate\n",
      "--------------------\n",
      "True\n",
      "True\n"
     ]
    }
   ],
   "source": [
    "for m in get_metabolites(codes_ab, metabolites):\n",
    "    print(m)\n",
    "\n",
    "print(\"--------------------\")\n",
    "\n",
    "# Controllo se \"aspartate acid\" è presente\n",
    "aspartate_acid_ab = ('aspartic acid' in get_metabolites(codes_ab, metabolites))\n",
    "print(aspartate_acid_ab)\n",
    "\n",
    "# Controllo se \"pyrophosphate\" è presente\n",
    "pyrophosphate_ab = ('pyrophosphate' in get_metabolites(codes_ab, metabolites))\n",
    "print(pyrophosphate_ab)"
   ]
  },
  {
   "cell_type": "markdown",
   "metadata": {},
   "source": [
    "### Gradient Boosting"
   ]
  },
  {
   "cell_type": "code",
   "execution_count": 87,
   "metadata": {},
   "outputs": [
    {
     "name": "stdout",
     "output_type": "stream",
     "text": [
      "58\n"
     ]
    }
   ],
   "source": [
    "codes_gb = ['M1', 'M4', 'M6', 'M7', 'M8', 'M9', 'M13', 'M16', 'M24', 'M25', 'M31', 'M33', 'M37', 'M39', 'M41', 'M42', 'M44', 'M45', 'M47', 'M50', 'M60', 'M61', 'M62', 'M63', 'M67', 'M68', 'M69', 'M74', 'M76', 'M78', 'M84', 'M86', 'M89', 'M91', 'M92', 'M97', 'M100', 'M103', 'M104', 'M105', 'M106', 'M115', 'M117', 'M121', 'M129', 'M133', 'M139', 'M140', 'M149', 'M151', 'M154', 'M161', 'M168', 'M170', 'M171', 'M173', 'M176', 'M179']\n",
    "print(len(codes_gb))"
   ]
  },
  {
   "cell_type": "code",
   "execution_count": 88,
   "metadata": {},
   "outputs": [
    {
     "name": "stdout",
     "output_type": "stream",
     "text": [
      "xylose\n",
      "valine\n",
      "uric acid\n",
      "urea\n",
      "tyrosine\n",
      "tryptophan\n",
      "threonine\n",
      "taurine\n",
      "serine\n",
      "salicylic acid\n",
      "pyrophosphate\n",
      "proline\n",
      "phenylalanine\n",
      "paracetamol\n",
      "palmitoleic acid\n",
      "palmitic acid\n",
      "oxoproline\n",
      "oxalic acid\n",
      "oleic acid\n",
      "naproxen\n",
      "mannitol\n",
      "maltotriose\n",
      "maltose\n",
      "malonic acid\n",
      "lysine\n",
      "linolenic acid\n",
      "linoleic acid\n",
      "lauric acid\n",
      "lactic acid\n",
      "kynurenine\n",
      "inositol myo-\n",
      "inosine\n",
      "hypoxanthine\n",
      "histidine\n",
      "hippuric acid\n",
      "glycine\n",
      "glycerol\n",
      "glutamine\n",
      "glutamic acid\n",
      "glucuronic acid\n",
      "glucose\n",
      "fructose\n",
      "erythritol\n",
      "cystine\n",
      "cholesterol\n",
      "butane-2,3-diol (NIST)\n",
      "azelaic acid\n",
      "aspartic acid\n",
      "alanine\n",
      "adenosine-5-phosphate\n",
      "6-deoxyglucitol NIST\n",
      "3-hydroxybutanoic acid\n",
      "2-hydroxyhippuric acid\n",
      "2-hydroxybutanoic acid\n",
      "deoxytetronic acid NIST\n",
      "deoxythreittol NIST\n",
      "1,5-anhydroglucitol\n",
      "715929 carbohydrate\n",
      "--------------------\n",
      "True\n",
      "True\n"
     ]
    }
   ],
   "source": [
    "for m in get_metabolites(codes_gb, metabolites):\n",
    "    print(m)\n",
    "\n",
    "print(\"--------------------\")\n",
    "\n",
    "# Controllo se \"aspartate acid\" è presente\n",
    "aspartate_acid_gb = ('aspartic acid' in get_metabolites(codes_gb, metabolites))\n",
    "print(aspartate_acid_gb)\n",
    "\n",
    "# Controllo se \"pyrophosphate\" è presente\n",
    "pyrophosphate_gb = ('pyrophosphate' in get_metabolites(codes_gb, metabolites))\n",
    "print(pyrophosphate_gb)"
   ]
  },
  {
   "cell_type": "markdown",
   "metadata": {},
   "source": [
    "### Multinomial Naive Bayes"
   ]
  },
  {
   "cell_type": "code",
   "execution_count": 89,
   "metadata": {},
   "outputs": [
    {
     "name": "stdout",
     "output_type": "stream",
     "text": [
      "23\n"
     ]
    }
   ],
   "source": [
    "codes_mnb = ['M4', 'M7', 'M9', 'M25', 'M33', 'M39', 'M41', 'M44', 'M45', 'M47', 'M50', 'M60', 'M67', 'M76', 'M100', 'M103', 'M104', 'M106', 'M115', 'M117', 'M121', 'M133', 'M161']\n",
    "print(len(codes_mnb))"
   ]
  },
  {
   "cell_type": "code",
   "execution_count": 90,
   "metadata": {},
   "outputs": [
    {
     "name": "stdout",
     "output_type": "stream",
     "text": [
      "valine\n",
      "urea\n",
      "tryptophan\n",
      "salicylic acid\n",
      "proline\n",
      "paracetamol\n",
      "palmitoleic acid\n",
      "oxoproline\n",
      "oxalic acid\n",
      "oleic acid\n",
      "naproxen\n",
      "mannitol\n",
      "lysine\n",
      "lactic acid\n",
      "glycerol\n",
      "glutamine\n",
      "glutamic acid\n",
      "glucose\n",
      "fructose\n",
      "erythritol\n",
      "cystine\n",
      "butane-2,3-diol (NIST)\n",
      "3-hydroxybutanoic acid\n",
      "--------------------\n",
      "False\n",
      "False\n"
     ]
    }
   ],
   "source": [
    "for m in get_metabolites(codes_mnb, metabolites):\n",
    "    print(m)\n",
    "\n",
    "print(\"--------------------\")\n",
    "\n",
    "# Controllo se \"aspartate acid\" è presente\n",
    "aspartate_acid_mnb = ('aspartic acid' in get_metabolites(codes_mnb, metabolites))\n",
    "print(aspartate_acid_mnb)\n",
    "\n",
    "# Controllo se \"pyrophosphate\" è presente\n",
    "pyrophosphate_mnb = ('pyrophosphate' in get_metabolites(codes_mnb, metabolites))\n",
    "print(pyrophosphate_mnb)"
   ]
  },
  {
   "cell_type": "markdown",
   "metadata": {},
   "source": [
    "### Partial Least Squares"
   ]
  },
  {
   "cell_type": "code",
   "execution_count": 91,
   "metadata": {},
   "outputs": [
    {
     "name": "stdout",
     "output_type": "stream",
     "text": [
      "52\n"
     ]
    }
   ],
   "source": [
    "codes_pls = ['M1', 'M4', 'M6', 'M7', 'M8', 'M9', 'M13', 'M24', 'M25', 'M31', 'M33', 'M37', 'M39', 'M41', 'M42', 'M44', 'M45', 'M47', 'M50', 'M60', 'M62', 'M63', 'M67', 'M69', 'M74', 'M76', 'M78', 'M89', 'M91', 'M92', 'M97', 'M100', 'M103', 'M104', 'M106', 'M115', 'M117', 'M121', 'M129', 'M133', 'M139', 'M140', 'M149', 'M151', 'M154', 'M161', 'M168', 'M170', 'M171', 'M173', 'M176', 'M179']\n",
    "print(len(codes_pls))"
   ]
  },
  {
   "cell_type": "code",
   "execution_count": 92,
   "metadata": {},
   "outputs": [
    {
     "name": "stdout",
     "output_type": "stream",
     "text": [
      "xylose\n",
      "valine\n",
      "uric acid\n",
      "urea\n",
      "tyrosine\n",
      "tryptophan\n",
      "threonine\n",
      "serine\n",
      "salicylic acid\n",
      "pyrophosphate\n",
      "proline\n",
      "phenylalanine\n",
      "paracetamol\n",
      "palmitoleic acid\n",
      "palmitic acid\n",
      "oxoproline\n",
      "oxalic acid\n",
      "oleic acid\n",
      "naproxen\n",
      "mannitol\n",
      "maltose\n",
      "malonic acid\n",
      "lysine\n",
      "linoleic acid\n",
      "lauric acid\n",
      "lactic acid\n",
      "kynurenine\n",
      "hypoxanthine\n",
      "histidine\n",
      "hippuric acid\n",
      "glycine\n",
      "glycerol\n",
      "glutamine\n",
      "glutamic acid\n",
      "glucose\n",
      "fructose\n",
      "erythritol\n",
      "cystine\n",
      "cholesterol\n",
      "butane-2,3-diol (NIST)\n",
      "azelaic acid\n",
      "aspartic acid\n",
      "alanine\n",
      "adenosine-5-phosphate\n",
      "6-deoxyglucitol NIST\n",
      "3-hydroxybutanoic acid\n",
      "2-hydroxyhippuric acid\n",
      "2-hydroxybutanoic acid\n",
      "deoxytetronic acid NIST\n",
      "deoxythreittol NIST\n",
      "1,5-anhydroglucitol\n",
      "715929 carbohydrate\n",
      "--------------------\n",
      "True\n",
      "True\n"
     ]
    }
   ],
   "source": [
    "for m in get_metabolites(codes_pls, metabolites):\n",
    "    print(m)\n",
    "\n",
    "print(\"--------------------\")\n",
    "\n",
    "# Controllo se \"aspartate acid\" è presente\n",
    "aspartate_acid_pls = ('aspartic acid' in get_metabolites(codes_pls, metabolites))\n",
    "print(aspartate_acid_pls)\n",
    "\n",
    "# Controllo se \"pyrophosphate\" è presente\n",
    "pyrophosphate_pls = ('pyrophosphate' in get_metabolites(codes_pls, metabolites))\n",
    "print(pyrophosphate_pls)"
   ]
  },
  {
   "cell_type": "markdown",
   "metadata": {},
   "source": [
    "### Random Forest"
   ]
  },
  {
   "cell_type": "code",
   "execution_count": 93,
   "metadata": {},
   "outputs": [
    {
     "name": "stdout",
     "output_type": "stream",
     "text": [
      "39\n"
     ]
    }
   ],
   "source": [
    "codes_rf = ['M6', 'M7', 'M9', 'M16', 'M21', 'M24', 'M25', 'M26', 'M31', 'M33', 'M37', 'M39', 'M41', 'M45', 'M46', 'M47', 'M50', 'M60', 'M63', 'M76', 'M97', 'M98', 'M99', 'M100', 'M103', 'M104', 'M106', 'M115', 'M116', 'M117', 'M121', 'M129', 'M133', 'M140', 'M142', 'M161', 'M168', 'M170', 'M179']\n",
    "print(len(codes_rf))"
   ]
  },
  {
   "cell_type": "code",
   "execution_count": 94,
   "metadata": {},
   "outputs": [
    {
     "name": "stdout",
     "output_type": "stream",
     "text": [
      "uric acid\n",
      "urea\n",
      "tryptophan\n",
      "taurine\n",
      "stearic acid\n",
      "serine\n",
      "salicylic acid\n",
      "salicylaldehyde\n",
      "pyrophosphate\n",
      "proline\n",
      "phenylalanine\n",
      "paracetamol\n",
      "palmitoleic acid\n",
      "oxalic acid\n",
      "ornithine\n",
      "oleic acid\n",
      "naproxen\n",
      "mannitol\n",
      "malonic acid\n",
      "lactic acid\n",
      "glycine\n",
      "glycerol-alpha-phosphate\n",
      "glycerol-3-galactoside\n",
      "glycerol\n",
      "glutamine\n",
      "glutamic acid\n",
      "glucose\n",
      "fructose\n",
      "ethanolamine\n",
      "erythritol\n",
      "cystine\n",
      "cholesterol\n",
      "butane-2,3-diol (NIST)\n",
      "aspartic acid\n",
      "arachidonic acid\n",
      "3-hydroxybutanoic acid\n",
      "2-hydroxyhippuric acid\n",
      "2-hydroxybutanoic acid\n",
      "715929 carbohydrate\n",
      "--------------------\n",
      "True\n",
      "True\n"
     ]
    }
   ],
   "source": [
    "for m in get_metabolites(codes_rf, metabolites):\n",
    "    print(m)\n",
    "\n",
    "print(\"--------------------\")\n",
    "\n",
    "# Controllo se \"aspartate acid\" è presente\n",
    "aspartate_acid_rf = ('aspartic acid' in get_metabolites(codes_rf, metabolites))\n",
    "print(aspartate_acid_rf)\n",
    "\n",
    "# Controllo se \"pyrophosphate\" è presente\n",
    "pyrophosphate_rf = ('pyrophosphate' in get_metabolites(codes_rf, metabolites))\n",
    "print(pyrophosphate_rf)"
   ]
  },
  {
   "cell_type": "markdown",
   "metadata": {},
   "source": [
    "### eXtreme Gradient Boost"
   ]
  },
  {
   "cell_type": "code",
   "execution_count": 95,
   "metadata": {},
   "outputs": [
    {
     "name": "stdout",
     "output_type": "stream",
     "text": [
      "49\n"
     ]
    }
   ],
   "source": [
    "codes_xgb = ['M1', 'M4', 'M6', 'M7', 'M9', 'M13', 'M24', 'M25', 'M31', 'M33', 'M37', 'M39', 'M41', 'M42', 'M44', 'M45', 'M47', 'M50', 'M60', 'M62', 'M63', 'M67', 'M69', 'M74', 'M76', 'M78', 'M89', 'M91', 'M92', 'M97', 'M100', 'M103', 'M104', 'M106', 'M115', 'M117', 'M121', 'M129', 'M133', 'M139', 'M140', 'M149', 'M151', 'M161', 'M168', 'M170', 'M173', 'M176', 'M179']\n",
    "print(len(codes_xgb))"
   ]
  },
  {
   "cell_type": "code",
   "execution_count": 96,
   "metadata": {},
   "outputs": [
    {
     "name": "stdout",
     "output_type": "stream",
     "text": [
      "xylose\n",
      "valine\n",
      "uric acid\n",
      "urea\n",
      "tryptophan\n",
      "threonine\n",
      "serine\n",
      "salicylic acid\n",
      "pyrophosphate\n",
      "proline\n",
      "phenylalanine\n",
      "paracetamol\n",
      "palmitoleic acid\n",
      "palmitic acid\n",
      "oxoproline\n",
      "oxalic acid\n",
      "oleic acid\n",
      "naproxen\n",
      "mannitol\n",
      "maltose\n",
      "malonic acid\n",
      "lysine\n",
      "linoleic acid\n",
      "lauric acid\n",
      "lactic acid\n",
      "kynurenine\n",
      "hypoxanthine\n",
      "histidine\n",
      "hippuric acid\n",
      "glycine\n",
      "glycerol\n",
      "glutamine\n",
      "glutamic acid\n",
      "glucose\n",
      "fructose\n",
      "erythritol\n",
      "cystine\n",
      "cholesterol\n",
      "butane-2,3-diol (NIST)\n",
      "azelaic acid\n",
      "aspartic acid\n",
      "alanine\n",
      "adenosine-5-phosphate\n",
      "3-hydroxybutanoic acid\n",
      "2-hydroxyhippuric acid\n",
      "2-hydroxybutanoic acid\n",
      "deoxythreittol NIST\n",
      "1,5-anhydroglucitol\n",
      "715929 carbohydrate\n",
      "--------------------\n",
      "True\n",
      "True\n"
     ]
    }
   ],
   "source": [
    "for m in get_metabolites(codes_xgb, metabolites):\n",
    "    print(m)\n",
    "\n",
    "print(\"--------------------\")\n",
    "\n",
    "# Controllo se \"aspartate acid\" è presente\n",
    "aspartate_acid_xgb = ('aspartic acid' in get_metabolites(codes_xgb, metabolites))\n",
    "print(aspartate_acid_xgb)\n",
    "\n",
    "# Controllo se \"pyrophosphate\" è presente\n",
    "pyrophosphate_xgb = ('pyrophosphate' in get_metabolites(codes_xgb, metabolites))\n",
    "print(pyrophosphate_xgb)"
   ]
  },
  {
   "cell_type": "markdown",
   "metadata": {},
   "source": [
    "### Tabella"
   ]
  },
  {
   "cell_type": "code",
   "execution_count": 97,
   "metadata": {},
   "outputs": [
    {
     "name": "stdout",
     "output_type": "stream",
     "text": [
      "+-------------------------+----------------+-----------------------+----------------------+\n",
      "|         Modello         | N. di features | Presenza di aspartato | Presenza pirofosfato |\n",
      "+-------------------------+----------------+-----------------------+----------------------+\n",
      "|        AdaBoost         |       50       |         True          |         True         |\n",
      "|    Gradient Boosting    |       58       |         True          |         True         |\n",
      "| Multinomial Naive Bayes |       23       |         False         |        False         |\n",
      "|  Partial Least Squares  |       52       |         True          |         True         |\n",
      "|      Random Forest      |       39       |         True          |         True         |\n",
      "|         XGBoost         |       49       |         True          |         True         |\n",
      "+-------------------------+----------------+-----------------------+----------------------+\n"
     ]
    }
   ],
   "source": [
    "\n",
    "models = ['AdaBoost', 'Gradient Boosting', 'Multinomial Naive Bayes', 'Partial Least Squares', 'Random Forest', 'XGBoost']  \n",
    "features = [len(codes_ab), len(codes_gb), len(codes_mnb), len(codes_pls), len(codes_rf), len(codes_xgb)] \n",
    "aspartate_acid = [aspartate_acid_ab, aspartate_acid_gb, aspartate_acid_mnb, aspartate_acid_pls, aspartate_acid_rf, aspartate_acid_xgb] \n",
    "pyrophosphate = [pyrophosphate_ab, pyrophosphate_gb, pyrophosphate_mnb, pyrophosphate_pls, pyrophosphate_rf, pyrophosphate_xgb] \n",
    "\n",
    "data = {\n",
    "    'Modello': models,\n",
    "    'N. di features': features,\n",
    "    'Presenza di aspartato': aspartate_acid,\n",
    "    'Presenza pirofosfato': pyrophosphate\n",
    "}\n",
    "\n",
    "df = pd.DataFrame(data)\n",
    "print(tabulate(df, headers='keys', tablefmt='pretty', showindex=False))\n"
   ]
  }
 ],
 "metadata": {
  "kernelspec": {
   "display_name": "thesis",
   "language": "python",
   "name": "python3"
  },
  "language_info": {
   "codemirror_mode": {
    "name": "ipython",
    "version": 3
   },
   "file_extension": ".py",
   "mimetype": "text/x-python",
   "name": "python",
   "nbconvert_exporter": "python",
   "pygments_lexer": "ipython3",
   "version": "3.11.4"
  }
 },
 "nbformat": 4,
 "nbformat_minor": 2
}
