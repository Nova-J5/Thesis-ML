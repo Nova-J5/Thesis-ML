{
 "cells": [
  {
   "cell_type": "markdown",
   "metadata": {},
   "source": [
    "### 1. Import Packages"
   ]
  },
  {
   "cell_type": "code",
   "execution_count": 1,
   "metadata": {},
   "outputs": [
    {
     "name": "stdout",
     "output_type": "stream",
     "text": [
      "All packages successfully loaded\n"
     ]
    }
   ],
   "source": [
    "# Librerie di base\n",
    "import numpy as np\n",
    "import pandas as pd\n",
    "import seaborn as sns\n",
    "import matplotlib.pyplot as plt\n",
    "\n",
    "# Librerie per la Data Imputation\n",
    "from sklearn.impute import KNNImputer\n",
    "\n",
    "# Librerie per Data Scaling\n",
    "from sklearn.preprocessing import MinMaxScaler\n",
    "\n",
    "# Librerie per la Hyperparameters Optimization\n",
    "from sklearn.model_selection import GridSearchCV\n",
    "\n",
    "# Librerie per il Machine Learning\n",
    "from sklearn.cross_decomposition import PLSRegression\n",
    "from pyopls import OPLS\n",
    "import sklearn.metrics as metrics\n",
    "from sklearn.model_selection import KFold, cross_val_predict\n",
    "\n",
    "# Librerie per la Features Selection\n",
    "from sklearn.feature_selection import SelectKBest\n",
    "from sklearn.feature_selection import chi2\n",
    "\n",
    "# Librerie per la curva ROC\n",
    "from sklearn.metrics import roc_curve, auc\n",
    "\n",
    "print('All packages successfully loaded')"
   ]
  },
  {
   "cell_type": "markdown",
   "metadata": {},
   "source": [
    "### 2. Load Data & Peak Sheet"
   ]
  },
  {
   "cell_type": "code",
   "execution_count": 2,
   "metadata": {},
   "outputs": [
    {
     "data": {
      "text/html": [
       "<div>\n",
       "<style scoped>\n",
       "    .dataframe tbody tr th:only-of-type {\n",
       "        vertical-align: middle;\n",
       "    }\n",
       "\n",
       "    .dataframe tbody tr th {\n",
       "        vertical-align: top;\n",
       "    }\n",
       "\n",
       "    .dataframe thead th {\n",
       "        text-align: right;\n",
       "    }\n",
       "</style>\n",
       "<table border=\"1\" class=\"dataframe\">\n",
       "  <thead>\n",
       "    <tr style=\"text-align: right;\">\n",
       "      <th></th>\n",
       "      <th>SampleType</th>\n",
       "      <th>HealthState</th>\n",
       "      <th>SmokingStatus</th>\n",
       "      <th>Sex</th>\n",
       "      <th>M1</th>\n",
       "      <th>M2</th>\n",
       "      <th>M3</th>\n",
       "      <th>M4</th>\n",
       "      <th>M5</th>\n",
       "      <th>M6</th>\n",
       "      <th>...</th>\n",
       "      <th>M172</th>\n",
       "      <th>M173</th>\n",
       "      <th>M174</th>\n",
       "      <th>M175</th>\n",
       "      <th>M176</th>\n",
       "      <th>M177</th>\n",
       "      <th>M178</th>\n",
       "      <th>M179</th>\n",
       "      <th>M180</th>\n",
       "      <th>M181</th>\n",
       "    </tr>\n",
       "  </thead>\n",
       "  <tbody>\n",
       "    <tr>\n",
       "      <th>0</th>\n",
       "      <td>Plasma</td>\n",
       "      <td>Adenocarcinoma</td>\n",
       "      <td>Former</td>\n",
       "      <td>F</td>\n",
       "      <td>194</td>\n",
       "      <td>168</td>\n",
       "      <td>77</td>\n",
       "      <td>105985</td>\n",
       "      <td>118</td>\n",
       "      <td>15489</td>\n",
       "      <td>...</td>\n",
       "      <td>195</td>\n",
       "      <td>1606</td>\n",
       "      <td>300</td>\n",
       "      <td>108</td>\n",
       "      <td>7203</td>\n",
       "      <td>43</td>\n",
       "      <td>59</td>\n",
       "      <td>1009</td>\n",
       "      <td>383</td>\n",
       "      <td>68</td>\n",
       "    </tr>\n",
       "    <tr>\n",
       "      <th>1</th>\n",
       "      <td>Plasma</td>\n",
       "      <td>Adenocarcinoma</td>\n",
       "      <td>Former</td>\n",
       "      <td>F</td>\n",
       "      <td>215</td>\n",
       "      <td>143</td>\n",
       "      <td>154</td>\n",
       "      <td>100462</td>\n",
       "      <td>133</td>\n",
       "      <td>13534</td>\n",
       "      <td>...</td>\n",
       "      <td>184</td>\n",
       "      <td>364</td>\n",
       "      <td>1364</td>\n",
       "      <td>160</td>\n",
       "      <td>11910</td>\n",
       "      <td>82</td>\n",
       "      <td>99</td>\n",
       "      <td>136</td>\n",
       "      <td>1021</td>\n",
       "      <td>165</td>\n",
       "    </tr>\n",
       "    <tr>\n",
       "      <th>2</th>\n",
       "      <td>Plasma</td>\n",
       "      <td>Adenocarcinoma</td>\n",
       "      <td>Current</td>\n",
       "      <td>F</td>\n",
       "      <td>104</td>\n",
       "      <td>67</td>\n",
       "      <td>45</td>\n",
       "      <td>75301</td>\n",
       "      <td>94</td>\n",
       "      <td>7390</td>\n",
       "      <td>...</td>\n",
       "      <td>189</td>\n",
       "      <td>157</td>\n",
       "      <td>884</td>\n",
       "      <td>73</td>\n",
       "      <td>6372</td>\n",
       "      <td>59</td>\n",
       "      <td>35</td>\n",
       "      <td>115</td>\n",
       "      <td>530</td>\n",
       "      <td>72</td>\n",
       "    </tr>\n",
       "    <tr>\n",
       "      <th>3</th>\n",
       "      <td>Plasma</td>\n",
       "      <td>Adenocarcinoma</td>\n",
       "      <td>Current</td>\n",
       "      <td>M</td>\n",
       "      <td>360</td>\n",
       "      <td>642</td>\n",
       "      <td>82</td>\n",
       "      <td>42097</td>\n",
       "      <td>84</td>\n",
       "      <td>50943</td>\n",
       "      <td>...</td>\n",
       "      <td>320</td>\n",
       "      <td>1621</td>\n",
       "      <td>461</td>\n",
       "      <td>104</td>\n",
       "      <td>14011</td>\n",
       "      <td>69</td>\n",
       "      <td>86</td>\n",
       "      <td>845</td>\n",
       "      <td>1309</td>\n",
       "      <td>127</td>\n",
       "    </tr>\n",
       "    <tr>\n",
       "      <th>4</th>\n",
       "      <td>Plasma</td>\n",
       "      <td>Adenocarcinoma</td>\n",
       "      <td>Current</td>\n",
       "      <td>M</td>\n",
       "      <td>96</td>\n",
       "      <td>137</td>\n",
       "      <td>95</td>\n",
       "      <td>112346</td>\n",
       "      <td>168</td>\n",
       "      <td>41987</td>\n",
       "      <td>...</td>\n",
       "      <td>84</td>\n",
       "      <td>769</td>\n",
       "      <td>266</td>\n",
       "      <td>158</td>\n",
       "      <td>18140</td>\n",
       "      <td>40</td>\n",
       "      <td>87</td>\n",
       "      <td>1213</td>\n",
       "      <td>1037</td>\n",
       "      <td>149</td>\n",
       "    </tr>\n",
       "  </tbody>\n",
       "</table>\n",
       "<p>5 rows × 185 columns</p>\n",
       "</div>"
      ],
      "text/plain": [
       "  SampleType     HealthState SmokingStatus Sex   M1   M2   M3      M4   M5  \\\n",
       "0     Plasma  Adenocarcinoma        Former   F  194  168   77  105985  118   \n",
       "1     Plasma  Adenocarcinoma        Former   F  215  143  154  100462  133   \n",
       "2     Plasma  Adenocarcinoma       Current   F  104   67   45   75301   94   \n",
       "3     Plasma  Adenocarcinoma       Current   M  360  642   82   42097   84   \n",
       "4     Plasma  Adenocarcinoma       Current   M   96  137   95  112346  168   \n",
       "\n",
       "      M6  ...  M172  M173  M174  M175   M176  M177  M178  M179  M180  M181  \n",
       "0  15489  ...   195  1606   300   108   7203    43    59  1009   383    68  \n",
       "1  13534  ...   184   364  1364   160  11910    82    99   136  1021   165  \n",
       "2   7390  ...   189   157   884    73   6372    59    35   115   530    72  \n",
       "3  50943  ...   320  1621   461   104  14011    69    86   845  1309   127  \n",
       "4  41987  ...    84   769   266   158  18140    40    87  1213  1037   149  \n",
       "\n",
       "[5 rows x 185 columns]"
      ]
     },
     "execution_count": 2,
     "metadata": {},
     "output_type": "execute_result"
    }
   ],
   "source": [
    "df = pd.read_excel('../../../data/ST000369.xlsx')\n",
    "\n",
    "# Rimuoviamo le colonne che non ci servono\n",
    "df.drop(columns=[\"Idx\", \"SampleID\", \"Class\"], inplace=True)\n",
    "\n",
    "# Visualizziamo le prime 5 righe del dataset\n",
    "df.head()"
   ]
  },
  {
   "cell_type": "markdown",
   "metadata": {},
   "source": [
    "### 2.1 Data Cleaning"
   ]
  },
  {
   "cell_type": "markdown",
   "metadata": {},
   "source": [
    "Per quanto riguarda il data cleaning del dataset, sono necessarie due tipologie di operazioni sui dati: \n",
    "1. Alcuni valori della feature \"*HealthState*\" sono scritti incorrettamente, perciò dobbiamo effettuarne la correzione.\n",
    "2. Tre features binarie sono espresse attraverso stringhe e non valori binari (0 e 1), perciò dobbiamo fare la sostituzione."
   ]
  },
  {
   "cell_type": "code",
   "execution_count": 3,
   "metadata": {},
   "outputs": [
    {
     "data": {
      "text/html": [
       "<div>\n",
       "<style scoped>\n",
       "    .dataframe tbody tr th:only-of-type {\n",
       "        vertical-align: middle;\n",
       "    }\n",
       "\n",
       "    .dataframe tbody tr th {\n",
       "        vertical-align: top;\n",
       "    }\n",
       "\n",
       "    .dataframe thead th {\n",
       "        text-align: right;\n",
       "    }\n",
       "</style>\n",
       "<table border=\"1\" class=\"dataframe\">\n",
       "  <thead>\n",
       "    <tr style=\"text-align: right;\">\n",
       "      <th></th>\n",
       "      <th>SampleType</th>\n",
       "      <th>HealthState</th>\n",
       "      <th>SmokingStatus</th>\n",
       "      <th>Sex</th>\n",
       "      <th>M1</th>\n",
       "      <th>M2</th>\n",
       "      <th>M3</th>\n",
       "      <th>M4</th>\n",
       "      <th>M5</th>\n",
       "      <th>M6</th>\n",
       "      <th>...</th>\n",
       "      <th>M173</th>\n",
       "      <th>M174</th>\n",
       "      <th>M175</th>\n",
       "      <th>M176</th>\n",
       "      <th>M177</th>\n",
       "      <th>M178</th>\n",
       "      <th>M179</th>\n",
       "      <th>M180</th>\n",
       "      <th>M181</th>\n",
       "      <th>Output</th>\n",
       "    </tr>\n",
       "  </thead>\n",
       "  <tbody>\n",
       "    <tr>\n",
       "      <th>0</th>\n",
       "      <td>Plasma</td>\n",
       "      <td>Adenocarcinoma</td>\n",
       "      <td>0</td>\n",
       "      <td>1</td>\n",
       "      <td>194</td>\n",
       "      <td>168</td>\n",
       "      <td>77</td>\n",
       "      <td>105985</td>\n",
       "      <td>118</td>\n",
       "      <td>15489</td>\n",
       "      <td>...</td>\n",
       "      <td>1606</td>\n",
       "      <td>300</td>\n",
       "      <td>108</td>\n",
       "      <td>7203</td>\n",
       "      <td>43</td>\n",
       "      <td>59</td>\n",
       "      <td>1009</td>\n",
       "      <td>383</td>\n",
       "      <td>68</td>\n",
       "      <td>1</td>\n",
       "    </tr>\n",
       "    <tr>\n",
       "      <th>1</th>\n",
       "      <td>Plasma</td>\n",
       "      <td>Adenocarcinoma</td>\n",
       "      <td>0</td>\n",
       "      <td>1</td>\n",
       "      <td>215</td>\n",
       "      <td>143</td>\n",
       "      <td>154</td>\n",
       "      <td>100462</td>\n",
       "      <td>133</td>\n",
       "      <td>13534</td>\n",
       "      <td>...</td>\n",
       "      <td>364</td>\n",
       "      <td>1364</td>\n",
       "      <td>160</td>\n",
       "      <td>11910</td>\n",
       "      <td>82</td>\n",
       "      <td>99</td>\n",
       "      <td>136</td>\n",
       "      <td>1021</td>\n",
       "      <td>165</td>\n",
       "      <td>1</td>\n",
       "    </tr>\n",
       "    <tr>\n",
       "      <th>2</th>\n",
       "      <td>Plasma</td>\n",
       "      <td>Adenocarcinoma</td>\n",
       "      <td>1</td>\n",
       "      <td>1</td>\n",
       "      <td>104</td>\n",
       "      <td>67</td>\n",
       "      <td>45</td>\n",
       "      <td>75301</td>\n",
       "      <td>94</td>\n",
       "      <td>7390</td>\n",
       "      <td>...</td>\n",
       "      <td>157</td>\n",
       "      <td>884</td>\n",
       "      <td>73</td>\n",
       "      <td>6372</td>\n",
       "      <td>59</td>\n",
       "      <td>35</td>\n",
       "      <td>115</td>\n",
       "      <td>530</td>\n",
       "      <td>72</td>\n",
       "      <td>1</td>\n",
       "    </tr>\n",
       "    <tr>\n",
       "      <th>3</th>\n",
       "      <td>Plasma</td>\n",
       "      <td>Adenocarcinoma</td>\n",
       "      <td>1</td>\n",
       "      <td>0</td>\n",
       "      <td>360</td>\n",
       "      <td>642</td>\n",
       "      <td>82</td>\n",
       "      <td>42097</td>\n",
       "      <td>84</td>\n",
       "      <td>50943</td>\n",
       "      <td>...</td>\n",
       "      <td>1621</td>\n",
       "      <td>461</td>\n",
       "      <td>104</td>\n",
       "      <td>14011</td>\n",
       "      <td>69</td>\n",
       "      <td>86</td>\n",
       "      <td>845</td>\n",
       "      <td>1309</td>\n",
       "      <td>127</td>\n",
       "      <td>1</td>\n",
       "    </tr>\n",
       "    <tr>\n",
       "      <th>4</th>\n",
       "      <td>Plasma</td>\n",
       "      <td>Adenocarcinoma</td>\n",
       "      <td>1</td>\n",
       "      <td>0</td>\n",
       "      <td>96</td>\n",
       "      <td>137</td>\n",
       "      <td>95</td>\n",
       "      <td>112346</td>\n",
       "      <td>168</td>\n",
       "      <td>41987</td>\n",
       "      <td>...</td>\n",
       "      <td>769</td>\n",
       "      <td>266</td>\n",
       "      <td>158</td>\n",
       "      <td>18140</td>\n",
       "      <td>40</td>\n",
       "      <td>87</td>\n",
       "      <td>1213</td>\n",
       "      <td>1037</td>\n",
       "      <td>149</td>\n",
       "      <td>1</td>\n",
       "    </tr>\n",
       "  </tbody>\n",
       "</table>\n",
       "<p>5 rows × 186 columns</p>\n",
       "</div>"
      ],
      "text/plain": [
       "  SampleType     HealthState  SmokingStatus  Sex   M1   M2   M3      M4   M5  \\\n",
       "0     Plasma  Adenocarcinoma              0    1  194  168   77  105985  118   \n",
       "1     Plasma  Adenocarcinoma              0    1  215  143  154  100462  133   \n",
       "2     Plasma  Adenocarcinoma              1    1  104   67   45   75301   94   \n",
       "3     Plasma  Adenocarcinoma              1    0  360  642   82   42097   84   \n",
       "4     Plasma  Adenocarcinoma              1    0   96  137   95  112346  168   \n",
       "\n",
       "      M6  ...  M173  M174  M175   M176  M177  M178  M179  M180  M181  Output  \n",
       "0  15489  ...  1606   300   108   7203    43    59  1009   383    68       1  \n",
       "1  13534  ...   364  1364   160  11910    82    99   136  1021   165       1  \n",
       "2   7390  ...   157   884    73   6372    59    35   115   530    72       1  \n",
       "3  50943  ...  1621   461   104  14011    69    86   845  1309   127       1  \n",
       "4  41987  ...   769   266   158  18140    40    87  1213  1037   149       1  \n",
       "\n",
       "[5 rows x 186 columns]"
      ]
     },
     "execution_count": 3,
     "metadata": {},
     "output_type": "execute_result"
    }
   ],
   "source": [
    "# Effettuiamo la correzione dei valori errati\n",
    "df[\"HealthState\"] = df[\"HealthState\"].str.replace('Adenocarcnoma', 'Adenocarcinoma')\n",
    "\n",
    "# Eliminiamo le righe con valori nulli all'interno delle colonne \"HealthState\" e \"Sex\"\n",
    "df = df.dropna(subset=[\"HealthState\", \"Sex\"])\n",
    "\n",
    "# Convertiamo i valori di natura categorica in valori numerici\n",
    "df['Output'] = df['HealthState'].apply(lambda x: 1 if x in ['Adenosquamous', 'Adenocarcinoma'] else 0)\n",
    "df['SmokingStatus'] = df['SmokingStatus'].apply(lambda x: 1 if x in ['Current'] else 0)\n",
    "df['Sex'] = df['Sex'].apply(lambda x: 1 if x in ['F'] else 0)\n",
    "\n",
    "# Visualizziamo le prime 5 righe del dataset\n",
    "df.head()"
   ]
  },
  {
   "cell_type": "markdown",
   "metadata": {},
   "source": [
    "### 3. Extract X & Y"
   ]
  },
  {
   "cell_type": "code",
   "execution_count": 4,
   "metadata": {},
   "outputs": [],
   "source": [
    "X = df.drop(columns=['SampleType', 'HealthState', 'Output'])\n",
    "X_features_names = X.columns\n",
    "y = df.Output"
   ]
  },
  {
   "cell_type": "markdown",
   "metadata": {},
   "source": [
    "### 3.1 Data Imputation"
   ]
  },
  {
   "cell_type": "code",
   "execution_count": 5,
   "metadata": {},
   "outputs": [
    {
     "name": "stderr",
     "output_type": "stream",
     "text": [
      "/var/folders/dv/cqkd8q211lb6w_8jd__s86d40000gn/T/ipykernel_17494/4178831705.py:4: DeprecationWarning: In a future version, `df.iloc[:, i] = newvals` will attempt to set the values inplace instead of always setting a new array. To retain the old behavior, use either `df[df.columns[i]] = newvals` or, if columns are non-unique, `df.isetitem(i, newvals)`\n",
      "  X[:] = imputer_knn.fit_transform(X)\n"
     ]
    }
   ],
   "source": [
    "# KNNImputer\n",
    "imputer_knn = KNNImputer()\n",
    "imputer_knn.fit(X)\n",
    "X[:] = imputer_knn.fit_transform(X)\n",
    "X_knn = X.copy()"
   ]
  },
  {
   "cell_type": "markdown",
   "metadata": {},
   "source": [
    "### 4. Initial Model Build"
   ]
  },
  {
   "cell_type": "code",
   "execution_count": 6,
   "metadata": {},
   "outputs": [],
   "source": [
    "minmax = MinMaxScaler()\n",
    "X_knn = minmax.fit_transform(X_knn)"
   ]
  },
  {
   "cell_type": "code",
   "execution_count": 7,
   "metadata": {},
   "outputs": [],
   "source": [
    "opls = OPLS(2)\n",
    "Z = opls.fit_transform(X_knn, y)"
   ]
  },
  {
   "cell_type": "code",
   "execution_count": 8,
   "metadata": {},
   "outputs": [],
   "source": [
    "pls = PLSRegression(2)"
   ]
  },
  {
   "cell_type": "code",
   "execution_count": 9,
   "metadata": {},
   "outputs": [],
   "source": [
    "y_pred = cross_val_predict(pls, Z, y, cv=10)\n",
    "threshold = 0.5\n",
    "y_pred_class = (y_pred > threshold).astype(int)\n",
    "roc_auc = metrics.roc_auc_score(y, y_pred_class)"
   ]
  },
  {
   "cell_type": "code",
   "execution_count": 10,
   "metadata": {},
   "outputs": [
    {
     "data": {
      "image/png": "[encoded data removed]",
      "text/plain": [
       "<Figure size 640x480 with 1 Axes>"
      ]
     },
     "metadata": {},
     "output_type": "display_data"
    }
   ],
   "source": [
    "fpr, tpr, thresholds = roc_curve(y, y_pred)\n",
    "\n",
    "plt.figure(0)\n",
    "plt.plot([0, 1], [0, 1], lw=2, linestyle='--')\n",
    "plt.plot(fpr, tpr, lw=2, label=f'OPLS (AUC={roc_auc:.4f})')\n",
    "plt.xlabel('False Positive Rate')\n",
    "plt.ylabel('True Positive Rate')\n",
    "plt.title('ROC Curve')\n",
    "plt.legend(loc='lower right')\n",
    "plt.show()"
   ]
  },
  {
   "cell_type": "code",
   "execution_count": 11,
   "metadata": {},
   "outputs": [
    {
     "name": "stdout",
     "output_type": "stream",
     "text": [
      "K=5, Accuratezza Media: 0.823888888888889\n",
      "K=6, Accuratezza Media: 0.8368253968253968\n",
      "K=7, Accuratezza Media: 0.8476984126984127\n",
      "K=8, Accuratezza Media: 0.8159523809523809\n",
      "K=9, Accuratezza Media: 0.843888888888889\n",
      "K=10, Accuratezza Media: 0.8547619047619047\n",
      "-------------------------------------------\n",
      "K ottimale: 10\n",
      "Accuratezza massima: 0.8547619047619047\n"
     ]
    }
   ],
   "source": [
    "max_roc_auc_score = 0    \n",
    "k_best = 0\n",
    "for k in range(5, 11):\n",
    "\n",
    "    kfolds = KFold(n_splits=k, shuffle=True, random_state=42)\n",
    "    pls = PLSRegression()\n",
    "    y_pred = cross_val_predict(pls, Z, y, cv=kfolds)\n",
    "    \n",
    "    # Convertiamo le previsioni in etichette di classe utilizzando una soglia di 0.5\n",
    "    threshold = 0.5\n",
    "    y_pred_class = (y_pred[:, 0] > threshold).astype(int)\n",
    "    \n",
    "    roc_auc_score = metrics.roc_auc_score(y, y_pred_class)\n",
    "    \n",
    "    if roc_auc_score > max_roc_auc_score:\n",
    "        max_roc_auc_score = roc_auc_score\n",
    "        k_best = k\n",
    "    \n",
    "    print(f\"K={k}, Accuratezza Media: {roc_auc_score}\")\n",
    "\n",
    "print(\"-------------------------------------------\")\n",
    "print(f\"K ottimale: {k_best}\")\n",
    "print(f\"Accuratezza massima: {max_roc_auc_score}\")"
   ]
  },
  {
   "cell_type": "code",
   "execution_count": 12,
   "metadata": {},
   "outputs": [],
   "source": [
    "# Creiamo l'oggetto K-Fold per la Cross-Validation con il numero di fold ottimale\n",
    "kfolds = KFold(n_splits=k_best, shuffle=True, random_state=42)"
   ]
  },
  {
   "cell_type": "code",
   "execution_count": 13,
   "metadata": {},
   "outputs": [],
   "source": [
    "# K-Fold Cross Validation del modello con le features ottimali\n",
    "y_pred = cross_val_predict(pls, Z, y, cv=kfolds)\n",
    "\n",
    "# Scegliamo una soglia (threshold) per trasformare le probabilità in etichette binarie\n",
    "threshold = 0.5\n",
    "y_pred = (y_pred > threshold).astype(int)\n",
    "\n",
    "# Calcoliamo le metriche\n",
    "accuracy = metrics.accuracy_score(y, y_pred)\n",
    "precision = metrics.precision_score(y, y_pred)\n",
    "recall = metrics.recall_score(y, y_pred)\n",
    "f1 = metrics.f1_score(y, y_pred)\n",
    "roc_auc = metrics.roc_auc_score(y, y_pred)"
   ]
  },
  {
   "cell_type": "code",
   "execution_count": 14,
   "metadata": {},
   "outputs": [
    {
     "name": "stdout",
     "output_type": "stream",
     "text": [
      "------------------------\n",
      "Accuracy: 0.8650\n",
      "Precision: 0.8824\n",
      "Recall: 0.9000\n",
      "F1-score: 0.8911\n",
      "ROC AUC: 0.8548\n",
      "------------------------\n",
      "Matrice di confusione:\n",
      " [[51 12]\n",
      " [10 90]]\n",
      "------------------------\n"
     ]
    }
   ],
   "source": [
    "# Stampiamo i risultati\n",
    "print(\"------------------------\")\n",
    "print(f'Accuracy: {accuracy:.4f}')\n",
    "print(f'Precision: {precision:.4f}')\n",
    "print(f'Recall: {recall:.4f}')\n",
    "print(f'F1-score: {f1:.4f}')\n",
    "print(f'ROC AUC: {roc_auc:.4f}')\n",
    "print(\"------------------------\")\n",
    "print(f'Matrice di confusione:\\n {metrics.confusion_matrix(y, y_pred)}')\n",
    "print(\"------------------------\")"
   ]
  },
  {
   "cell_type": "code",
   "execution_count": 15,
   "metadata": {},
   "outputs": [
    {
     "data": {
      "image/png": "[encoded data removed]",
      "text/plain": [
       "<Figure size 640x480 with 1 Axes>"
      ]
     },
     "metadata": {},
     "output_type": "display_data"
    }
   ],
   "source": [
    "fpr, tpr, thresholds = roc_curve(y, y_pred)\n",
    "\n",
    "plt.figure(0)\n",
    "plt.plot([0, 1], [0, 1], lw=2, linestyle='--')\n",
    "plt.plot(fpr, tpr, lw=2, label=f'OPLS (AUC={roc_auc:.4f})')\n",
    "plt.xlabel('False Positive Rate')\n",
    "plt.ylabel('True Positive Rate')\n",
    "plt.title('ROC Curve')\n",
    "plt.legend(loc='lower right')\n",
    "plt.show()"
   ]
  }
 ],
 "metadata": {
  "kernelspec": {
   "display_name": "thesis",
   "language": "python",
   "name": "python3"
  },
  "language_info": {
   "codemirror_mode": {
    "name": "ipython",
    "version": 3
   },
   "file_extension": ".py",
   "mimetype": "text/x-python",
   "name": "python",
   "nbconvert_exporter": "python",
   "pygments_lexer": "ipython3",
   "version": "3.11.4"
  },
  "orig_nbformat": 4
 },
 "nbformat": 4,
 "nbformat_minor": 2
}
